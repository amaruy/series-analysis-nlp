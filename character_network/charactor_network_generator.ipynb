{
 "cells": [
  {
   "cell_type": "code",
   "execution_count": 4,
   "metadata": {},
   "outputs": [],
   "source": [
    "import spacy\n",
    "from nltk import sent_tokenize"
   ]
  },
  {
   "cell_type": "code",
   "execution_count": 5,
   "metadata": {},
   "outputs": [],
   "source": [
    "def load_model():\n",
    "    nlp = spacy.load('en_core_web_sm')\n",
    "    return nlp"
   ]
  },
  {
   "cell_type": "code",
   "execution_count": 6,
   "metadata": {},
   "outputs": [],
   "source": [
    "nlp_model = load_model()"
   ]
  },
  {
   "cell_type": "markdown",
   "metadata": {},
   "source": [
    "### Load Data"
   ]
  },
  {
   "cell_type": "code",
   "execution_count": 9,
   "metadata": {},
   "outputs": [],
   "source": [
    "import os\n",
    "import sys\n",
    "import pathlib\n",
    "\n",
    "folder_path = pathlib.Path().parent.resolve()\n",
    "sys.path.append(os.path.join(folder_path, '../'))\n",
    "from utils import load_subtitles_dataset\n",
    "\n"
   ]
  },
  {
   "cell_type": "code",
   "execution_count": 103,
   "metadata": {},
   "outputs": [],
   "source": [
    "datapath = '../data/subtitles/'\n",
    "df = load_subtitles_dataset(datapath)"
   ]
  },
  {
   "cell_type": "code",
   "execution_count": 88,
   "metadata": {},
   "outputs": [
    {
     "data": {
      "text/html": [
       "<div>\n",
       "<style scoped>\n",
       "    .dataframe tbody tr th:only-of-type {\n",
       "        vertical-align: middle;\n",
       "    }\n",
       "\n",
       "    .dataframe tbody tr th {\n",
       "        vertical-align: top;\n",
       "    }\n",
       "\n",
       "    .dataframe thead th {\n",
       "        text-align: right;\n",
       "    }\n",
       "</style>\n",
       "<table border=\"1\" class=\"dataframe\">\n",
       "  <thead>\n",
       "    <tr style=\"text-align: right;\">\n",
       "      <th></th>\n",
       "      <th>episode</th>\n",
       "      <th>script</th>\n",
       "    </tr>\n",
       "  </thead>\n",
       "  <tbody>\n",
       "    <tr>\n",
       "      <th>0</th>\n",
       "      <td>94</td>\n",
       "      <td>We are Fighting Dreamers aiming high\\n Fightin...</td>\n",
       "    </tr>\n",
       "    <tr>\n",
       "      <th>1</th>\n",
       "      <td>80</td>\n",
       "      <td>We are Fighting Dreamers aiming high\\n Fightin...</td>\n",
       "    </tr>\n",
       "    <tr>\n",
       "      <th>2</th>\n",
       "      <td>32</td>\n",
       "      <td>Press down hard on the gas\\n That’s right, the...</td>\n",
       "    </tr>\n",
       "    <tr>\n",
       "      <th>3</th>\n",
       "      <td>185</td>\n",
       "      <td>Rock away your existence,\\n Shouting that you ...</td>\n",
       "    </tr>\n",
       "    <tr>\n",
       "      <th>4</th>\n",
       "      <td>191</td>\n",
       "      <td>Rock away your existence,\\n Shouting that you ...</td>\n",
       "    </tr>\n",
       "  </tbody>\n",
       "</table>\n",
       "</div>"
      ],
      "text/plain": [
       "   episode                                             script\n",
       "0       94  We are Fighting Dreamers aiming high\\n Fightin...\n",
       "1       80  We are Fighting Dreamers aiming high\\n Fightin...\n",
       "2       32  Press down hard on the gas\\n That’s right, the...\n",
       "3      185  Rock away your existence,\\n Shouting that you ...\n",
       "4      191  Rock away your existence,\\n Shouting that you ..."
      ]
     },
     "execution_count": 88,
     "metadata": {},
     "output_type": "execute_result"
    }
   ],
   "source": [
    "df.head()"
   ]
  },
  {
   "cell_type": "code",
   "execution_count": 89,
   "metadata": {},
   "outputs": [],
   "source": [
    "sample_script = df.iloc[0]['script']"
   ]
  },
  {
   "cell_type": "code",
   "execution_count": 90,
   "metadata": {},
   "outputs": [
    {
     "data": {
      "text/plain": [
       "'We are Fighting Dreamers aiming high\\n Fighting Dreamers don\\'t care what people think about them\\n Fighting Dreamers follow what they believe\\n Oli Oli Oli Oh! Just go my way\\n Right here right now (Bang) Hit it straight like a line drive!\\n Right here right now (Burn)\\n Down a difficult road filled with endless struggles\\n Where do you think you are going following someone else\\'s map?\\n An insightful crow comes along to tear up the map\\n Now open your eyes and take a look at the truth (Yeah!)\\n There\\'s nothing to lose, so let\\'s GO!!!\\n We are Fighting Dreamers aiming high\\n Fighting Dreamers don\\'t care what people think about them\\n Fighting Dreamers follow what they believe\\n Oli Oli Oli Oh! Just go my way\\n Right here right now (Bang) Hit it straight like a line drive!\\n Right here right now (Burn) We\\'re gonna do it and do our best!\\n Right here right now (Bang) Hit it straight like a line drive!\\n Right here right now (Burn) We\\'re gonna do it and do our best! BANG!\\n My body movements have finally returned…\\n Blood…\\n Lady Tsunade!\\n Say! Say! What’s happening?!\\n Why’s Kabuto fighting with Old Lady Tsunade?!\\n Take a good look at the headband!\\n He’s Orochimaru’s subordinate.\\n Attack! Fury of the Rasengan!\\n That man is Orochimaru…\\n Shizune, you take care of the guy with the glasses…\\n I’ll take care of Orochimaru.\\n Before that, I’d like to have Tsunade do something about this body.\\n The effects of that drug might still last for awhile…\\n There’s nothing that I can do about it.\\n What? Really?\\n Geez. I guess it can’t be helped.\\n I have no choice but to fight in this condition.\\n Tsunade… Rest your body with Recovery Ninjutsu.\\n Then… What about me, me?\\n You guard Tsunade together with that pig.\\n What?! I want to fight, too. Even I can--\\n No, you won’t!\\n Like that four-eyed kid said, right?\\n You’re on a different level.\\n The opponent is a Sannin like myself,\\n and the man who killed the Third Hokage.\\n An eye for an eye… I’m the only one who can fight him.\\n And that four-eyed guy possesses the same level of power as Kakashi.\\n Okay.\\n Then… Shadow Clo--\\n Hold it!\\n Don’t use the Shadow Clone Jutsu. lt’d be utterly pointless.\\n What?\\n It wouldn’t even become much of a diversion…\\n It’d be a waste of Chakra…\\n with them as opponents.\\n Now then, let’s get this thing started.\\n – Summoning Jutsu. – Summoning Jutsu.\\n Hi.\\n – Huh?! \\t\\t\\t\\t\\t– What is this?!\\n – Wha--?! – What the heck’s going on?!\\n Long time no see.\\n On account of the drug,\\n Master Jiraiya still can’t build up Chakra very well.\\n It looks like your stupid still hasn’t healed, eh, Jiraiya.\\n That’s too much even for you with no ability.\\n It seems Tsunade got you with something.\\n A sacrifice was necessary for that Jutsu,\\n so perhaps she was thinking ahead and drugged him\\n with something that would contain his power.\\n To think she’d make a sacrifice of Jiraiya…\\n Well, it sounds just like Tsunade.\\n To think I’d already have my handicap spotted.\\n You are such a disgraceful guy as always…\\n Dang it. It kind of ticks me off when the Pervy Sage is mocked.\\n Summoning…Jutsu!\\n The Nine-Tailed Fox kid from the Chunin Exam.\\n I wonder if I should’ve killed him then, after all.\\n For the sake of the Akatsuki organization,\\n I acknowledged his achievement… and let him slide by.\\n But the only ones who can break a Five-Pronged Spell\\n are the Sannin members and the Third Hokage.\\n Which means Jiraiya may have already taught it to Naruto.\\n Perhaps.\\n If he’s able to control the Nine-Tailed Fox’s power…\\n Oh…\\n Th-This is…\\n It doesn’t quite look to be so.\\n He isn’t endowed with Shinobi ability to begin with, so…\\n Why?\\n He’s still got a long way to go, sure enough.\\n Why?!\\n Hello.\\n Hey, Gamatatsu. Why did you come out?\\n Oh, Brother Gamakichi.\\n It’s the first time I’ve been Summoned.\\n I-I wonder if I can do my best?\\n Idiot. Get some snacks or something and hide.\\n What? I can get snacks? Goody-goody.\\n Here I go.\\n I’ll take Jiraiya.\\n I leave the rest to you.\\n It’s unfortunate…\\n Here I also wanted to fight Lord Jiraiya, one of the Sannin.\\n Naruto!\\n Your opponent is me.\\n Earth Style! Dark Swamp!\\n Dang it. I can’t completely sink them with such a puny swamp.\\n The drug is still working.\\n But…with this, the snakes can’t move.\\n Ninja Art! Poison Fog!\\n I’ll be up a creek if I take even one breath.\\n My leg tendons…!\\n I won’t be eaten twice…! No way!\\n Here I go.\\n Ninja Art! Needle Jizo!\\n Dang it…The Jutsu isn’t working well.\\n Even if we both have handicaps, you won’t one-up me…\\n Give up now.\\n It’s unfortunate…\\n Here I had respected you as a fellow Medical Ninja.\\n Stop. Stay back!\\n Please hang on, Lady Tsunade…\\n The Sannin name, which Lord Orochimaru is also called, will cry.\\n My body’s heavy.\\n To think you who were once called the village madness\\n would ferry around such a kid and struggle tirelessly for the village.\\n You’ve really fallen, haven’t you?\\n I have a keen eye to discern ability.\\n And that kid…is mediocrity in my eyes.\\n It’s precisely for this reason… that I don’t need the Uchiha kid.\\n It’s no fun raising a genius who’s good from the start.\\n So you can’t leave him alone\\n because it’s like you’re looking at your old self?\\n That kid can’t beat Uchiha who inherited the inherent Sharingan Shinobi skill.\\n And that’s because Naruto doesn’t possess the Sharingan.\\n Shinobi ability is about whether\\n one can use and master all the Jutsu of the world.\\n Ninja refers to one who can use Ninjutsu.\\n Shinobi ability is no such thing.\\n You still don’t get it?\\n A Ninja…is one who endures.\\n It’s a difference of opinion, huh.\\n I’ll teach you one thing.\\n What’s most important for Shinobi ability…\\n isn’t the number of Jutsu one possesses.\\n What’s important is…\\n The mettle…\\n not to give up.\\n Enough already…you jerk!\\n The mettle to never give up…\\n He possesses that.\\n Heh. I don’t know what Jutsu you learned,\\n but you can’t hit me with such a large motion.\\n No good.\\n It won’t easily hit with a moving opponent.\\n Owwee!\\n And the Chakra isn’t completely held, yet…\\n It seems you got a cracked thigh bone in your left leg\\n from the battle with the snake.\\n Well, you can still move if it’s just the bone.\\n But it’s impossible now…\\n The lateral vastus muscle in your right leg is totally cut off.\\n What should I do…?\\n That Jutsu of mine uses both hands.\\n If even one arm is taken out, it’s over.\\n Are you scared of me?\\n Do you want to run away from here?\\n Naruto, as I recall,\\n you whooped it up like this during the first Chunin Exam.\\n Don’t mess with me. I won’t run away!\\n \"Don’t mess with me. I won’t run away.\"\\n \"I’ll take it. Even if I’m a Genin for life…\"\\n \"I’ll become the Hokage at any cost, so it’s okay with me.\"\\n \"I’m not scared.\"\\n Can you… whoop it up in the same way now?\\n Unlike you…\\n I will be the heir to the Hokage name no matter what!\\n – Hokage is my dream! – Hokage is my dream!\\n You’re not a kid anymore, so you should stop whooping it up…\\n Depending on the situation,\\n when you want to give up and run away, you should run away.\\n Oh my… What’s with that look?\\n You’ll die! If you die, there are no dreams or anything…\\n Do you want to die?\\n You’re still a Genin, so you should run away on the battlefield.\\n Don’t tell a man to run away.\\n Kids think that everything is easy.\\n That’s why they talk about foolish dreams like nothing at all.\\n That’s why they can’t give up.\\n Jiraiya, was it you who taught him that Rasengan?\\n Are you acting like a teacher by teaching a Jutsu that can’t be learned?\\n Don’t give him false hopes.\\n That’s why a moony kid starts joking that he’ll become the Hokage!\\n They chase after foolish dreams… and then die.\\n If I have three days, I’ll master that Jutsu.\\n Then let\\'s make a bet.\\n Bastard!\\n As for me… I stand by my words.\\n That’s…my Way of Ninja!\\n A bet?\\n I’ll give you one week.\\n If you can master that Jutsu,\\n I’ll acknowledge that you’ll be able to become the Hokage…\\n and give you this necklace.\\n You should’ve just stayed out of this…\\n Why?\\n Why?!\\n Old Lady Tsunade…\\n You’re still going to get up?\\n Just like our wager\\n I will definitely win that unlucky necklace from you.\\n Shadow Clone Jutsu!\\n Shadow Clone won’t do anything now.\\n Enough… Don’t protect me, Naruto. Stop it!\\n I told you that you’d die if you were obstinate like that, right?\\n If you die, there will be no dreams, no nothing.\\n Just get out of the way. Run away.\\n Humph… It’s okay.\\n I…\\n I absolutely will not die…\\n until I become the Hokage!\\n This way, I can hold on to you. Here I go!\\n It’s the same Chakra movement as before.\\n No, this is…different.\\n I see.\\n In order to gain a hand for suppressing Chakra,\\n the Shadow Clone…\\n Compress Chakra and…\\n hold it completely.\\n Wha--?!\\n I-It can’t be.\\n Rasengan!\\n I believe your promise, its a true heart give me courage\\n Always I feel it the precious time with you\\n On your still shoulder\\n I feel the wind that blows towards tomorrow\\n The city lights are like pieces of stars\\n That hold us together\\n “Each one of us glows differently,”\\n you say laughingly\\n but you look most dazzling\\n Like a comet,\\n like the rainbow after the storm\\n You bring light into my heart\\n Being lost can be the answer\\n Let’s promise we won’t cheat\\n Uh... like a shooting star, we do go ahead.\\n I never forget my ideal…\\n to develop the Village Hidden in the Leaf and protect its people.\\n The Hokages have sacrificed their lives for that dream.\\n And now, I also will put my life on the line.\\n From this moment, I am the Fifth Hokage!\\n Next time: \"The Fifth Hokage! A Life on the Line!\"\\n'"
      ]
     },
     "execution_count": 90,
     "metadata": {},
     "output_type": "execute_result"
    }
   ],
   "source": [
    "sample_script"
   ]
  },
  {
   "cell_type": "code",
   "execution_count": 91,
   "metadata": {},
   "outputs": [
    {
     "data": {
      "text/plain": [
       "[\"We are Fighting Dreamers aiming high\\n Fighting Dreamers don't care what people think about them\\n Fighting Dreamers follow what they believe\\n Oli Oli Oli Oh!\",\n",
       " 'Just go my way\\n Right here right now (Bang) Hit it straight like a line drive!']"
      ]
     },
     "execution_count": 91,
     "metadata": {},
     "output_type": "execute_result"
    }
   ],
   "source": [
    "sentences = sent_tokenize(sample_script)\n",
    "sentences[:2]"
   ]
  },
  {
   "cell_type": "code",
   "execution_count": 98,
   "metadata": {},
   "outputs": [
    {
     "data": {
      "text/plain": [
       "'We are Fighting Dreamers aiming high\\n Fighting Dreamers don\\'t care what people think about them\\n Fighting Dreamers follow what they believe\\n Oli Oli Oli Oh!Just go my way\\n Right here right now (Bang) Hit it straight like a line drive!Right here right now (Burn)\\n Down a difficult road filled with endless struggles\\n Where do you think you are going following someone else\\'s map?An insightful crow comes along to tear up the map\\n Now open your eyes and take a look at the truth (Yeah!)There\\'s nothing to lose, so let\\'s GO!!!We are Fighting Dreamers aiming high\\n Fighting Dreamers don\\'t care what people think about them\\n Fighting Dreamers follow what they believe\\n Oli Oli Oli Oh!Just go my way\\n Right here right now (Bang) Hit it straight like a line drive!Right here right now (Burn) We\\'re gonna do it and do our best!Right here right now (Bang) Hit it straight like a line drive!Right here right now (Burn) We\\'re gonna do it and do our best!BANG!My body movements have finally returned…\\n Blood…\\n Lady Tsunade!Say!Say!What’s happening?!Why’s Kabuto fighting with Old Lady Tsunade?!Take a good look at the headband!He’s Orochimaru’s subordinate.Attack!Fury of the Rasengan!That man is Orochimaru…\\n Shizune, you take care of the guy with the glasses…\\n I’ll take care of Orochimaru.Before that, I’d like to have Tsunade do something about this body.The effects of that drug might still last for awhile…\\n There’s nothing that I can do about it.What?Really?Geez.I guess it can’t be helped.I have no choice but to fight in this condition.Tsunade… Rest your body with Recovery Ninjutsu.Then… What about me, me?You guard Tsunade together with that pig.What?!I want to fight, too.Even I can--\\n No, you won’t!Like that four-eyed kid said, right?You’re on a different level.The opponent is a Sannin like myself,\\n and the man who killed the Third Hokage.An eye for an eye… I’m the only one who can fight him.And that four-eyed guy possesses the same level of power as Kakashi.Okay.Then… Shadow Clo--\\n Hold it!Don’t use the Shadow Clone Jutsu.lt’d be utterly pointless.What?It wouldn’t even become much of a diversion…\\n It’d be a waste of Chakra…\\n with them as opponents.Now then, let’s get this thing started.– Summoning Jutsu.– Summoning Jutsu.Hi.– Huh?!– What is this?!– Wha--?!– What the heck’s going on?!Long time no see.On account of the drug,\\n Master Jiraiya still can’t build up Chakra very well.It looks like your stupid still hasn’t healed, eh, Jiraiya.That’s too much even for you with no ability.It seems Tsunade got you with something.A sacrifice was necessary for that Jutsu,\\n so perhaps she was thinking ahead and drugged him\\n with something that would contain his power.To think she’d make a sacrifice of Jiraiya…\\n Well, it sounds just like Tsunade.To think I’d already have my handicap spotted.You are such a disgraceful guy as always…\\n Dang it.It kind of ticks me off when the Pervy Sage is mocked.Summoning…Jutsu!The Nine-Tailed Fox kid from the Chunin Exam.I wonder if I should’ve killed him then, after all.For the sake of the Akatsuki organization,\\n I acknowledged his achievement… and let him slide by.But the only ones who can break a Five-Pronged Spell\\n are the Sannin members and the Third Hokage.Which means Jiraiya may have already taught it to Naruto.Perhaps.If he’s able to control the Nine-Tailed Fox’s power…\\n Oh…\\n Th-This is…\\n It doesn’t quite look to be so.He isn’t endowed with Shinobi ability to begin with, so…\\n Why?He’s still got a long way to go, sure enough.Why?!Hello.Hey, Gamatatsu.Why did you come out?Oh, Brother Gamakichi.It’s the first time I’ve been Summoned.I-I wonder if I can do my best?Idiot.Get some snacks or something and hide.What?I can get snacks?Goody-goody.Here I go.I’ll take Jiraiya.I leave the rest to you.It’s unfortunate…\\n Here I also wanted to fight Lord Jiraiya, one of the Sannin.Naruto!Your opponent is me.Earth Style!Dark Swamp!Dang it.I can’t completely sink them with such a puny swamp.The drug is still working.But…with this, the snakes can’t move.Ninja Art!Poison Fog!I’ll be up a creek if I take even one breath.My leg tendons…!I won’t be eaten twice…!No way!Here I go.Ninja Art!Needle Jizo!Dang it…The Jutsu isn’t working well.Even if we both have handicaps, you won’t one-up me…\\n Give up now.It’s unfortunate…\\n Here I had respected you as a fellow Medical Ninja.Stop.Stay back!Please hang on, Lady Tsunade…\\n The Sannin name, which Lord Orochimaru is also called, will cry.My body’s heavy.To think you who were once called the village madness\\n would ferry around such a kid and struggle tirelessly for the village.You’ve really fallen, haven’t you?I have a keen eye to discern ability.And that kid…is mediocrity in my eyes.It’s precisely for this reason… that I don’t need the Uchiha kid.It’s no fun raising a genius who’s good from the start.So you can’t leave him alone\\n because it’s like you’re looking at your old self?That kid can’t beat Uchiha who inherited the inherent Sharingan Shinobi skill.And that’s because Naruto doesn’t possess the Sharingan.Shinobi ability is about whether\\n one can use and master all the Jutsu of the world.Ninja refers to one who can use Ninjutsu.Shinobi ability is no such thing.You still don’t get it?A Ninja…is one who endures.It’s a difference of opinion, huh.I’ll teach you one thing.What’s most important for Shinobi ability…\\n isn’t the number of Jutsu one possesses.What’s important is…\\n The mettle…\\n not to give up.Enough already…you jerk!The mettle to never give up…\\n He possesses that.Heh.I don’t know what Jutsu you learned,\\n but you can’t hit me with such a large motion.No good.It won’t easily hit with a moving opponent.Owwee!And the Chakra isn’t completely held, yet…\\n It seems you got a cracked thigh bone in your left leg\\n from the battle with the snake.Well, you can still move if it’s just the bone.But it’s impossible now…\\n The lateral vastus muscle in your right leg is totally cut off.What should I do…?That Jutsu of mine uses both hands.If even one arm is taken out, it’s over.Are you scared of me?Do you want to run away from here?Naruto, as I recall,\\n you whooped it up like this during the first Chunin Exam.Don’t mess with me.I won’t run away!\"Don’t mess with me.I won’t run away.\"\"I’ll take it.Even if I’m a Genin for life…\"\\n \"I’ll become the Hokage at any cost, so it’s okay with me.\"\"I’m not scared.\"Can you… whoop it up in the same way now?Unlike you…\\n I will be the heir to the Hokage name no matter what!– Hokage is my dream!– Hokage is my dream!You’re not a kid anymore, so you should stop whooping it up…\\n Depending on the situation,\\n when you want to give up and run away, you should run away.Oh my… What’s with that look?You’ll die!If you die, there are no dreams or anything…\\n Do you want to die?You’re still a Genin, so you should run away on the battlefield.Don’t tell a man to run away.Kids think that everything is easy.That’s why they talk about foolish dreams like nothing at all.That’s why they can’t give up.Jiraiya, was it you who taught him that Rasengan?Are you acting like a teacher by teaching a Jutsu that can’t be learned?Don’t give him false hopes.That’s why a moony kid starts joking that he’ll become the Hokage!They chase after foolish dreams… and then die.If I have three days, I’ll master that Jutsu.Then let\\'s make a bet.Bastard!As for me… I stand by my words.That’s…my Way of Ninja!A bet?I’ll give you one week.If you can master that Jutsu,\\n I’ll acknowledge that you’ll be able to become the Hokage…\\n and give you this necklace.You should’ve just stayed out of this…\\n Why?Why?!Old Lady Tsunade…\\n You’re still going to get up?Just like our wager\\n I will definitely win that unlucky necklace from you.Shadow Clone Jutsu!Shadow Clone won’t do anything now.Enough… Don’t protect me, Naruto.Stop it!I told you that you’d die if you were obstinate like that, right?If you die, there will be no dreams, no nothing.Just get out of the way.Run away.Humph… It’s okay.I…\\n I absolutely will not die…\\n until I become the Hokage!This way, I can hold on to you.Here I go!It’s the same Chakra movement as before.No, this is…different.I see.In order to gain a hand for suppressing Chakra,\\n the Shadow Clone…\\n Compress Chakra and…\\n hold it completely.Wha--?!I-It can’t be.Rasengan!I believe your promise, its a true heart give me courage\\n Always I feel it the precious time with you\\n On your still shoulder\\n I feel the wind that blows towards tomorrow\\n The city lights are like pieces of stars\\n That hold us together\\n “Each one of us glows differently,”\\n you say laughingly\\n but you look most dazzling\\n Like a comet,\\n like the rainbow after the storm\\n You bring light into my heart\\n Being lost can be the answer\\n Let’s promise we won’t cheat\\n Uh... like a shooting star, we do go ahead.I never forget my ideal…\\n to develop the Village Hidden in the Leaf and protect its people.The Hokages have sacrificed their lives for that dream.And now, I also will put my life on the line.From this moment, I am the Fifth Hokage!Next time: \"The Fifth Hokage!A Life on the Line!\"'"
      ]
     },
     "execution_count": 98,
     "metadata": {},
     "output_type": "execute_result"
    }
   ],
   "source": [
    "sentence = \"\".join(sentences[:550])\n",
    "sentence"
   ]
  },
  {
   "cell_type": "markdown",
   "metadata": {},
   "source": [
    "### run model"
   ]
  },
  {
   "cell_type": "code",
   "execution_count": 99,
   "metadata": {},
   "outputs": [],
   "source": [
    "doc = nlp_model(sentence)  "
   ]
  },
  {
   "cell_type": "code",
   "execution_count": 100,
   "metadata": {},
   "outputs": [
    {
     "data": {
      "text/plain": [
       "(Fighting Dreamers,\n",
       " Burn,\n",
       " map?An,\n",
       " Fighting Dreamers,\n",
       " Burn,\n",
       " Burn,\n",
       " best!BANG!My,\n",
       " the headband!He’s Orochimaru’s,\n",
       " Orochimaru,\n",
       " Orochimaru,\n",
       " Tsunade,\n",
       " Tsunade,\n",
       " Rest,\n",
       " Recovery Ninjutsu,\n",
       " four,\n",
       " Sannin,\n",
       " four,\n",
       " Kakashi,\n",
       " Shadow Clone,\n",
       " Chakra,\n",
       " Jiraiya,\n",
       " Chakra,\n",
       " Jiraiya,\n",
       " Tsunade,\n",
       " Jiraiya,\n",
       " Tsunade,\n",
       " Nine,\n",
       " the Chunin Exam,\n",
       " Akatsuki,\n",
       " Five,\n",
       " Sannin,\n",
       " Jiraiya,\n",
       " Naruto,\n",
       " Nine,\n",
       " Shinobi,\n",
       " Gamatatsu,\n",
       " first,\n",
       " Summoned,\n",
       " Jiraiya,\n",
       " Jiraiya,\n",
       " one,\n",
       " Sannin,\n",
       " Style!Dark Swamp!Dang,\n",
       " one,\n",
       " !I,\n",
       " way!Here,\n",
       " Jizo!Dang,\n",
       " Lady Tsunade,\n",
       " Sannin,\n",
       " Orochimaru,\n",
       " Uchiha,\n",
       " Sharingan Shinobi,\n",
       " Naruto,\n",
       " Sharingan,\n",
       " Shinobi,\n",
       " Ninjutsu,\n",
       " Shinobi,\n",
       " Ninja,\n",
       " one,\n",
       " Shinobi,\n",
       " Jutsu,\n",
       " Jutsu,\n",
       " Chakra,\n",
       " n’t,\n",
       " Jutsu,\n",
       " one,\n",
       " here?Naruto,\n",
       " first,\n",
       " away!\"Don’t,\n",
       " Hokage,\n",
       " Genin,\n",
       " Jiraiya,\n",
       " Jutsu,\n",
       " three days,\n",
       " Jutsu,\n",
       " That’s,\n",
       " one week,\n",
       " Jutsu,\n",
       " Lady Tsunade,\n",
       " Naruto,\n",
       " Humph,\n",
       " Chakra,\n",
       " Chakra,\n",
       " Rasengan!I,\n",
       " tomorrow,\n",
       " one,\n",
       " the Village Hidden,\n",
       " Leaf,\n",
       " Hokages,\n",
       " Fifth,\n",
       " The Fifth Hokage!A Life)"
      ]
     },
     "execution_count": 100,
     "metadata": {},
     "output_type": "execute_result"
    }
   ],
   "source": [
    "doc.ents"
   ]
  },
  {
   "cell_type": "code",
   "execution_count": 101,
   "metadata": {},
   "outputs": [
    {
     "name": "stdout",
     "output_type": "stream",
     "text": [
      "Fighting Dreamers ORG\n",
      "Burn PERSON\n",
      "map?An PRODUCT\n",
      "Fighting Dreamers ORG\n",
      "Burn PERSON\n",
      "Burn PERSON\n",
      "best!BANG!My LOC\n",
      "the headband!He’s Orochimaru’s ORG\n",
      "Orochimaru ORG\n",
      "Orochimaru ORG\n",
      "Tsunade LOC\n",
      "Tsunade PERSON\n",
      "Rest PERSON\n",
      "Recovery Ninjutsu PERSON\n",
      "four CARDINAL\n",
      "Sannin ORG\n",
      "four CARDINAL\n",
      "Kakashi ORG\n",
      "Shadow Clone PRODUCT\n",
      "Chakra GPE\n",
      "Jiraiya PERSON\n",
      "Chakra GPE\n",
      "Jiraiya GPE\n",
      "Tsunade PERSON\n",
      "Jiraiya GPE\n",
      "Tsunade PERSON\n",
      "Nine CARDINAL\n",
      "the Chunin Exam LOC\n",
      "Akatsuki ORG\n",
      "Five CARDINAL\n",
      "Sannin ORG\n",
      "Jiraiya GPE\n",
      "Naruto ORG\n",
      "Nine CARDINAL\n",
      "Shinobi ORG\n",
      "Gamatatsu GPE\n",
      "first ORDINAL\n",
      "Summoned NORP\n",
      "Jiraiya GPE\n",
      "Jiraiya PERSON\n",
      "one CARDINAL\n",
      "Sannin ORG\n",
      "Style!Dark Swamp!Dang PERSON\n",
      "one CARDINAL\n",
      "!I PERSON\n",
      "way!Here PERSON\n",
      "Jizo!Dang PERSON\n",
      "Lady Tsunade PERSON\n",
      "Sannin ORG\n",
      "Orochimaru ORG\n",
      "Uchiha ORG\n",
      "Sharingan Shinobi LOC\n",
      "Naruto ORG\n",
      "Sharingan LOC\n",
      "Shinobi ORG\n",
      "Ninjutsu ORG\n",
      "Shinobi ORG\n",
      "Ninja ORG\n",
      "one CARDINAL\n",
      "Shinobi ORG\n",
      "Jutsu GPE\n",
      "Jutsu PERSON\n",
      "Chakra GPE\n",
      "n’t GPE\n",
      "Jutsu PERSON\n",
      "one CARDINAL\n",
      "here?Naruto ORG\n",
      "first ORDINAL\n",
      "away!\"Don’t ORG\n",
      "Hokage ORG\n",
      "Genin GPE\n",
      "Jiraiya PERSON\n",
      "Jutsu GPE\n",
      "three days DATE\n",
      "Jutsu GPE\n",
      "That’s ORG\n",
      "one week DATE\n",
      "Jutsu ORG\n",
      "Lady Tsunade PERSON\n",
      "Naruto ORG\n",
      "Humph PERSON\n",
      "Chakra GPE\n",
      "Chakra GPE\n",
      "Rasengan!I PERSON\n",
      "tomorrow DATE\n",
      "one CARDINAL\n",
      "the Village Hidden FAC\n",
      "Leaf PERSON\n",
      "Hokages ORG\n",
      "Fifth ORDINAL\n",
      "The Fifth Hokage!A Life ORG\n"
     ]
    }
   ],
   "source": [
    "for entity in doc.ents:\n",
    "    print(entity.text, entity.label_)"
   ]
  },
  {
   "cell_type": "code",
   "execution_count": 102,
   "metadata": {},
   "outputs": [],
   "source": [
    "def get_ners_inference(script):\n",
    "    sentences = sent_tokenize(script)\n",
    "    ners_output = []\n",
    "    for sentence in sentences:\n",
    "        doc = nlp_model(sentence)\n",
    "        ners = set()\n",
    "        for entity in doc.ents:\n",
    "            if entity.label_ == 'PERSON':\n",
    "                full_name = entity.text.split()\n",
    "                first_name = full_name[0].strip()\n",
    "                ners.add(first_name)\n",
    "        ners_output.append(ners)\n",
    "    return ners"
   ]
  },
  {
   "cell_type": "code",
   "execution_count": 104,
   "metadata": {},
   "outputs": [
    {
     "data": {
      "text/html": [
       "<div>\n",
       "<style scoped>\n",
       "    .dataframe tbody tr th:only-of-type {\n",
       "        vertical-align: middle;\n",
       "    }\n",
       "\n",
       "    .dataframe tbody tr th {\n",
       "        vertical-align: top;\n",
       "    }\n",
       "\n",
       "    .dataframe thead th {\n",
       "        text-align: right;\n",
       "    }\n",
       "</style>\n",
       "<table border=\"1\" class=\"dataframe\">\n",
       "  <thead>\n",
       "    <tr style=\"text-align: right;\">\n",
       "      <th></th>\n",
       "      <th>episode</th>\n",
       "      <th>script</th>\n",
       "    </tr>\n",
       "  </thead>\n",
       "  <tbody>\n",
       "    <tr>\n",
       "      <th>0</th>\n",
       "      <td>94</td>\n",
       "      <td>We are Fighting Dreamers aiming high\\n Fightin...</td>\n",
       "    </tr>\n",
       "    <tr>\n",
       "      <th>1</th>\n",
       "      <td>80</td>\n",
       "      <td>We are Fighting Dreamers aiming high\\n Fightin...</td>\n",
       "    </tr>\n",
       "    <tr>\n",
       "      <th>2</th>\n",
       "      <td>32</td>\n",
       "      <td>Press down hard on the gas\\n That’s right, the...</td>\n",
       "    </tr>\n",
       "    <tr>\n",
       "      <th>3</th>\n",
       "      <td>185</td>\n",
       "      <td>Rock away your existence,\\n Shouting that you ...</td>\n",
       "    </tr>\n",
       "    <tr>\n",
       "      <th>4</th>\n",
       "      <td>191</td>\n",
       "      <td>Rock away your existence,\\n Shouting that you ...</td>\n",
       "    </tr>\n",
       "  </tbody>\n",
       "</table>\n",
       "</div>"
      ],
      "text/plain": [
       "   episode                                             script\n",
       "0       94  We are Fighting Dreamers aiming high\\n Fightin...\n",
       "1       80  We are Fighting Dreamers aiming high\\n Fightin...\n",
       "2       32  Press down hard on the gas\\n That’s right, the...\n",
       "3      185  Rock away your existence,\\n Shouting that you ...\n",
       "4      191  Rock away your existence,\\n Shouting that you ..."
      ]
     },
     "execution_count": 104,
     "metadata": {},
     "output_type": "execute_result"
    }
   ],
   "source": [
    "df = df.iloc[:500]\n",
    "df.head()"
   ]
  },
  {
   "cell_type": "code",
   "execution_count": 105,
   "metadata": {},
   "outputs": [
    {
     "data": {
      "text/html": [
       "<div>\n",
       "<style scoped>\n",
       "    .dataframe tbody tr th:only-of-type {\n",
       "        vertical-align: middle;\n",
       "    }\n",
       "\n",
       "    .dataframe tbody tr th {\n",
       "        vertical-align: top;\n",
       "    }\n",
       "\n",
       "    .dataframe thead th {\n",
       "        text-align: right;\n",
       "    }\n",
       "</style>\n",
       "<table border=\"1\" class=\"dataframe\">\n",
       "  <thead>\n",
       "    <tr style=\"text-align: right;\">\n",
       "      <th></th>\n",
       "      <th>episode</th>\n",
       "      <th>script</th>\n",
       "      <th>ners</th>\n",
       "    </tr>\n",
       "  </thead>\n",
       "  <tbody>\n",
       "    <tr>\n",
       "      <th>0</th>\n",
       "      <td>94</td>\n",
       "      <td>We are Fighting Dreamers aiming high\\n Fightin...</td>\n",
       "      <td>{}</td>\n",
       "    </tr>\n",
       "    <tr>\n",
       "      <th>1</th>\n",
       "      <td>80</td>\n",
       "      <td>We are Fighting Dreamers aiming high\\n Fightin...</td>\n",
       "      <td>{}</td>\n",
       "    </tr>\n",
       "    <tr>\n",
       "      <th>2</th>\n",
       "      <td>32</td>\n",
       "      <td>Press down hard on the gas\\n That’s right, the...</td>\n",
       "      <td>{}</td>\n",
       "    </tr>\n",
       "    <tr>\n",
       "      <th>3</th>\n",
       "      <td>185</td>\n",
       "      <td>Rock away your existence,\\n Shouting that you ...</td>\n",
       "      <td>{}</td>\n",
       "    </tr>\n",
       "    <tr>\n",
       "      <th>4</th>\n",
       "      <td>191</td>\n",
       "      <td>Rock away your existence,\\n Shouting that you ...</td>\n",
       "      <td>{Chubby}</td>\n",
       "    </tr>\n",
       "    <tr>\n",
       "      <th>5</th>\n",
       "      <td>190</td>\n",
       "      <td>Rock away your existence,\\n Shouting that you ...</td>\n",
       "      <td>{}</td>\n",
       "    </tr>\n",
       "    <tr>\n",
       "      <th>6</th>\n",
       "      <td>184</td>\n",
       "      <td>Rock away your existence,\\n Shouting that you ...</td>\n",
       "      <td>{}</td>\n",
       "    </tr>\n",
       "    <tr>\n",
       "      <th>7</th>\n",
       "      <td>27</td>\n",
       "      <td>Press down hard on the gas\\n That’s right, the...</td>\n",
       "      <td>{}</td>\n",
       "    </tr>\n",
       "    <tr>\n",
       "      <th>8</th>\n",
       "      <td>33</td>\n",
       "      <td>Press down hard on the gas\\n That’s right, the...</td>\n",
       "      <td>{Gaara’s}</td>\n",
       "    </tr>\n",
       "    <tr>\n",
       "      <th>9</th>\n",
       "      <td>81</td>\n",
       "      <td>We are Fighting Dreamers aiming high\\n Fightin...</td>\n",
       "      <td>{Sharingan}</td>\n",
       "    </tr>\n",
       "    <tr>\n",
       "      <th>10</th>\n",
       "      <td>95</td>\n",
       "      <td>We are Fighting Dreamers aiming high\\n Fightin...</td>\n",
       "      <td>{Sannin}</td>\n",
       "    </tr>\n",
       "    <tr>\n",
       "      <th>11</th>\n",
       "      <td>83</td>\n",
       "      <td>We are Fighting Dreamers aiming high\\n Fightin...</td>\n",
       "      <td>{}</td>\n",
       "    </tr>\n",
       "    <tr>\n",
       "      <th>12</th>\n",
       "      <td>97</td>\n",
       "      <td>We are Fighting Dreamers aiming high\\n Fightin...</td>\n",
       "      <td>{}</td>\n",
       "    </tr>\n",
       "    <tr>\n",
       "      <th>13</th>\n",
       "      <td>31</td>\n",
       "      <td>Press down hard on the gas\\n That’s right, the...</td>\n",
       "      <td>{}</td>\n",
       "    </tr>\n",
       "    <tr>\n",
       "      <th>14</th>\n",
       "      <td>192</td>\n",
       "      <td>Rock away your existence,\\n Shouting that you ...</td>\n",
       "      <td>{}</td>\n",
       "    </tr>\n",
       "    <tr>\n",
       "      <th>15</th>\n",
       "      <td>186</td>\n",
       "      <td>Rock away your existence,\\n Shouting that you ...</td>\n",
       "      <td>{}</td>\n",
       "    </tr>\n",
       "    <tr>\n",
       "      <th>16</th>\n",
       "      <td>187</td>\n",
       "      <td>Rock away your existence,\\n Shouting that you ...</td>\n",
       "      <td>{}</td>\n",
       "    </tr>\n",
       "    <tr>\n",
       "      <th>17</th>\n",
       "      <td>193</td>\n",
       "      <td>Rock away your existence,\\n Shouting that you ...</td>\n",
       "      <td>{}</td>\n",
       "    </tr>\n",
       "    <tr>\n",
       "      <th>18</th>\n",
       "      <td>30</td>\n",
       "      <td>Press down hard on the gas\\n That’s right, the...</td>\n",
       "      <td>{}</td>\n",
       "    </tr>\n",
       "    <tr>\n",
       "      <th>19</th>\n",
       "      <td>96</td>\n",
       "      <td>We are Fighting Dreamers aiming high\\n Fightin...</td>\n",
       "      <td>{}</td>\n",
       "    </tr>\n",
       "  </tbody>\n",
       "</table>\n",
       "</div>"
      ],
      "text/plain": [
       "    episode                                             script         ners\n",
       "0        94  We are Fighting Dreamers aiming high\\n Fightin...           {}\n",
       "1        80  We are Fighting Dreamers aiming high\\n Fightin...           {}\n",
       "2        32  Press down hard on the gas\\n That’s right, the...           {}\n",
       "3       185  Rock away your existence,\\n Shouting that you ...           {}\n",
       "4       191  Rock away your existence,\\n Shouting that you ...     {Chubby}\n",
       "5       190  Rock away your existence,\\n Shouting that you ...           {}\n",
       "6       184  Rock away your existence,\\n Shouting that you ...           {}\n",
       "7        27  Press down hard on the gas\\n That’s right, the...           {}\n",
       "8        33  Press down hard on the gas\\n That’s right, the...    {Gaara’s}\n",
       "9        81  We are Fighting Dreamers aiming high\\n Fightin...  {Sharingan}\n",
       "10       95  We are Fighting Dreamers aiming high\\n Fightin...     {Sannin}\n",
       "11       83  We are Fighting Dreamers aiming high\\n Fightin...           {}\n",
       "12       97  We are Fighting Dreamers aiming high\\n Fightin...           {}\n",
       "13       31  Press down hard on the gas\\n That’s right, the...           {}\n",
       "14      192  Rock away your existence,\\n Shouting that you ...           {}\n",
       "15      186  Rock away your existence,\\n Shouting that you ...           {}\n",
       "16      187  Rock away your existence,\\n Shouting that you ...           {}\n",
       "17      193  Rock away your existence,\\n Shouting that you ...           {}\n",
       "18       30  Press down hard on the gas\\n That’s right, the...           {}\n",
       "19       96  We are Fighting Dreamers aiming high\\n Fightin...           {}"
      ]
     },
     "execution_count": 105,
     "metadata": {},
     "output_type": "execute_result"
    }
   ],
   "source": [
    "df['ners'] = df['script'].apply(get_ners_inference)\n",
    "df.head(20)"
   ]
  },
  {
   "cell_type": "markdown",
   "metadata": {},
   "source": [
    "### visualizing the results"
   ]
  },
  {
   "cell_type": "code",
   "execution_count": 106,
   "metadata": {},
   "outputs": [],
   "source": [
    "import matplotlib.pyplot as plt\n",
    "import networkx as nx\n",
    "from pyvis.network import Network\n",
    "import pandas as pd"
   ]
  },
  {
   "cell_type": "code",
   "execution_count": 107,
   "metadata": {},
   "outputs": [],
   "source": [
    "def generate_character_network(df):\n",
    "    \n",
    "    window=10\n",
    "    entity_relations = []\n",
    "\n",
    "    for row in df['ners']:\n",
    "        prev_entities = []\n",
    "        \n",
    "        for sentence in row:\n",
    "            \n",
    "            prev_entities.append([sentence])\n",
    "            prev_entities = prev_entities[-window:]\n",
    "\n",
    "            prev_flat = sum(prev_entities, [])\n",
    "            print(prev_flat)\n",
    "\n",
    "\n",
    "            for entity in [sentence]:\n",
    "                for entity_in_window in prev_flat:\n",
    "                    if entity != entity_in_window:\n",
    "                        entity_relations.append(sorted([entity, entity_in_window]))\n",
    "\n",
    "    relationship_df = pd.DataFrame({'value': entity_relations})\n",
    "    relationship_df['source'] = relationship_df['value'].apply(lambda x: x[0])\n",
    "    relationship_df['target'] = relationship_df['value'].apply(lambda x: x[1])\n",
    "    relationship_df = relationship_df.groupby(['source', 'target']).count().reset_index()\n",
    "    relationship_df = relationship_df.sort_values('value', ascending=False)\n",
    "\n",
    "    return relationship_df\n",
    "\n",
    "\n"
   ]
  },
  {
   "cell_type": "code",
   "execution_count": 108,
   "metadata": {},
   "outputs": [
    {
     "name": "stdout",
     "output_type": "stream",
     "text": [
      "['Chubby']\n",
      "['Gaara’s']\n",
      "['Sharingan']\n",
      "['Sannin']\n",
      "['Tsunade']\n",
      "['Sensei']\n",
      "['Kimimaro']\n",
      "['Kimimaro', 'Gaara']\n",
      "['kick']\n",
      "['Choji']\n",
      "['Sasuke\"']\n",
      "['Sasuke']\n",
      "['Sasuke']\n",
      "['Son']\n",
      "['Sakura']\n"
     ]
    },
    {
     "data": {
      "text/html": [
       "<div>\n",
       "<style scoped>\n",
       "    .dataframe tbody tr th:only-of-type {\n",
       "        vertical-align: middle;\n",
       "    }\n",
       "\n",
       "    .dataframe tbody tr th {\n",
       "        vertical-align: top;\n",
       "    }\n",
       "\n",
       "    .dataframe thead th {\n",
       "        text-align: right;\n",
       "    }\n",
       "</style>\n",
       "<table border=\"1\" class=\"dataframe\">\n",
       "  <thead>\n",
       "    <tr style=\"text-align: right;\">\n",
       "      <th></th>\n",
       "      <th>source</th>\n",
       "      <th>target</th>\n",
       "      <th>value</th>\n",
       "    </tr>\n",
       "  </thead>\n",
       "  <tbody>\n",
       "    <tr>\n",
       "      <th>0</th>\n",
       "      <td>Gaara</td>\n",
       "      <td>Kimimaro</td>\n",
       "      <td>1</td>\n",
       "    </tr>\n",
       "  </tbody>\n",
       "</table>\n",
       "</div>"
      ],
      "text/plain": [
       "  source    target  value\n",
       "0  Gaara  Kimimaro      1"
      ]
     },
     "execution_count": 108,
     "metadata": {},
     "output_type": "execute_result"
    }
   ],
   "source": [
    "relationship_df = generate_character_network(df)\n",
    "relationship_df.head()"
   ]
  },
  {
   "cell_type": "code",
   "execution_count": 109,
   "metadata": {},
   "outputs": [],
   "source": [
    "relationship_df =  relationship_df.head(200)"
   ]
  },
  {
   "cell_type": "code",
   "execution_count": null,
   "metadata": {},
   "outputs": [],
   "source": [
    "G = nx.from_pandas_edgelist(\n",
    "    relationship_df, \n",
    "    'source', \n",
    "    'target',\n",
    "    edge_attr='value',\n",
    "    create_using=nx.Graph()\n",
    ")\n",
    "\n",
    "net = Network(notebook=True,\n",
    "              height=\"750px\", \n",
    "              width=\"1000px\", \n",
    "              bgcolor=\"#222222\", \n",
    "              font_color=\"white\",\n",
    "              cdn_resources='remote')\n",
    "node_degree = dict(G.degree)\n",
    "\n",
    "nx.set_node_attributes(G, node_degree, 'size')\n",
    "net.from_nx(G)\n",
    "net.show('example.html')"
   ]
  },
  {
   "cell_type": "code",
   "execution_count": null,
   "metadata": {},
   "outputs": [],
   "source": []
  }
 ],
 "metadata": {
  "kernelspec": {
   "display_name": "Python 3",
   "language": "python",
   "name": "python3"
  },
  "language_info": {
   "codemirror_mode": {
    "name": "ipython",
    "version": 3
   },
   "file_extension": ".py",
   "mimetype": "text/x-python",
   "name": "python",
   "nbconvert_exporter": "python",
   "pygments_lexer": "ipython3",
   "version": "3.10.15"
  }
 },
 "nbformat": 4,
 "nbformat_minor": 2
}
